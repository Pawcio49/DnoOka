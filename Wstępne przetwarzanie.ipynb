{
 "cells": [
  {
   "cell_type": "code",
   "execution_count": 16,
   "id": "f951be02",
   "metadata": {},
   "outputs": [],
   "source": [
    "import os\n",
    "import cv2\n",
    "import numpy as np\n",
    "from PIL import Image \n",
    "import PIL"
   ]
  },
  {
   "cell_type": "code",
   "execution_count": 28,
   "id": "1073acdb",
   "metadata": {},
   "outputs": [],
   "source": [
    "test = 'test'\n",
    "input_data = os.path.join(test, 'images')\n",
    "test_images = sorted(\n",
    "    [\n",
    "        os.path.join(input_data, fname)\n",
    "        for fname in os.listdir(input_data)\n",
    "    ]\n",
    ")"
   ]
  },
  {
   "cell_type": "code",
   "execution_count": 29,
   "id": "4e20f7b6",
   "metadata": {},
   "outputs": [],
   "source": [
    "edited = 'edited2'"
   ]
  },
  {
   "cell_type": "code",
   "execution_count": 30,
   "id": "986af26c",
   "metadata": {},
   "outputs": [],
   "source": [
    "for image_path in test_images:\n",
    "    image = cv2.imread(image_path)\n",
    "    green_image = image[:, :, 1]  # Indeks 1 oznacza zielony kanał\n",
    "\n",
    "    blurred_image = cv2.blur(green_image, (5, 5))\n",
    "    kernel = np.array([[0, -1, 0], [-1, 5, -1], [0, -1, 0]])\n",
    "    sharpened_image = cv2.filter2D(blurred_image, -1, kernel)\n",
    "    normalized_image = cv2.equalizeHist(sharpened_image)\n",
    "\n",
    "    new_path = os.path.join(edited, image_path)\n",
    "    cv2.imwrite(new_path, normalized_image)"
   ]
  }
 ],
 "metadata": {
  "kernelspec": {
   "display_name": "Python 3 (ipykernel)",
   "language": "python",
   "name": "python3"
  },
  "language_info": {
   "codemirror_mode": {
    "name": "ipython",
    "version": 3
   },
   "file_extension": ".py",
   "mimetype": "text/x-python",
   "name": "python",
   "nbconvert_exporter": "python",
   "pygments_lexer": "ipython3",
   "version": "3.9.7"
  }
 },
 "nbformat": 4,
 "nbformat_minor": 5
}
